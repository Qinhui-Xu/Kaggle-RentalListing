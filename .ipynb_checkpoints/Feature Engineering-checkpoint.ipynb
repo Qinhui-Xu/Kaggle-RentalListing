{
 "cells": [
  {
   "cell_type": "code",
   "execution_count": 1,
   "metadata": {
    "collapsed": true
   },
   "outputs": [],
   "source": [
    "import numpy as np\n",
    "import pandas as pd\n",
    "import matplotlib.pyplot as plt\n",
    "import seaborn as sns\n",
    "color = sns.color_palette()\n",
    "\n",
    "%matplotlib inline"
   ]
  },
  {
   "cell_type": "code",
   "execution_count": 2,
   "metadata": {
    "collapsed": false
   },
   "outputs": [],
   "source": [
    "df_train = pd.read_json(open(\"/Users/apple1/desktop/kaggle/RentalListing/train.json\", \"r\"))"
   ]
  },
  {
   "cell_type": "markdown",
   "metadata": {},
   "source": [
    "# Featre Engineering"
   ]
  },
  {
   "cell_type": "code",
   "execution_count": 3,
   "metadata": {
    "collapsed": true
   },
   "outputs": [],
   "source": [
    "df_train[\"num_photos\"] = df_train[\"photos\"].apply(len)\n",
    "df_train[\"num_features\"] = df_train[\"features\"].apply(len)\n",
    "df_train[\"num_description_words\"] = df_train[\"description\"].apply(lambda x: len(x.split(\" \")))\n",
    "df_train[\"created\"] = pd.to_datetime(df_train[\"created\"])\n",
    "df_train[\"created_year\"] = df_train[\"created\"].dt.year\n",
    "df_train[\"created_month\"] = df_train[\"created\"].dt.month\n",
    "df_train[\"created_day\"] = df_train[\"created\"].dt.day"
   ]
  },
  {
   "cell_type": "code",
   "execution_count": 4,
   "metadata": {
    "collapsed": true
   },
   "outputs": [],
   "source": [
    "df_train = df_train.reset_index()"
   ]
  },
  {
   "cell_type": "code",
   "execution_count": 5,
   "metadata": {
    "collapsed": true
   },
   "outputs": [],
   "source": [
    "df_train = df_train.drop('index', 1)"
   ]
  },
  {
   "cell_type": "code",
   "execution_count": 6,
   "metadata": {
    "collapsed": false
   },
   "outputs": [
    {
     "data": {
      "text/html": [
       "<div>\n",
       "<table border=\"1\" class=\"dataframe\">\n",
       "  <thead>\n",
       "    <tr style=\"text-align: right;\">\n",
       "      <th></th>\n",
       "      <th>bathrooms</th>\n",
       "      <th>bedrooms</th>\n",
       "      <th>building_id</th>\n",
       "      <th>created</th>\n",
       "      <th>description</th>\n",
       "      <th>display_address</th>\n",
       "      <th>features</th>\n",
       "      <th>interest_level</th>\n",
       "      <th>latitude</th>\n",
       "      <th>listing_id</th>\n",
       "      <th>...</th>\n",
       "      <th>manager_id</th>\n",
       "      <th>photos</th>\n",
       "      <th>price</th>\n",
       "      <th>street_address</th>\n",
       "      <th>num_photos</th>\n",
       "      <th>num_features</th>\n",
       "      <th>num_description_words</th>\n",
       "      <th>created_year</th>\n",
       "      <th>created_month</th>\n",
       "      <th>created_day</th>\n",
       "    </tr>\n",
       "  </thead>\n",
       "  <tbody>\n",
       "    <tr>\n",
       "      <th>0</th>\n",
       "      <td>1.5</td>\n",
       "      <td>3</td>\n",
       "      <td>53a5b119ba8f7b61d4e010512e0dfc85</td>\n",
       "      <td>2016-06-24 07:54:24</td>\n",
       "      <td>A Brand New 3 Bedroom 1.5 bath ApartmentEnjoy ...</td>\n",
       "      <td>Metropolitan Avenue</td>\n",
       "      <td>[]</td>\n",
       "      <td>medium</td>\n",
       "      <td>40.7145</td>\n",
       "      <td>7211212</td>\n",
       "      <td>...</td>\n",
       "      <td>5ba989232d0489da1b5f2c45f6688adc</td>\n",
       "      <td>[https://photos.renthop.com/2/7211212_1ed4542e...</td>\n",
       "      <td>3000</td>\n",
       "      <td>792 Metropolitan Avenue</td>\n",
       "      <td>5</td>\n",
       "      <td>0</td>\n",
       "      <td>95</td>\n",
       "      <td>2016</td>\n",
       "      <td>6</td>\n",
       "      <td>24</td>\n",
       "    </tr>\n",
       "    <tr>\n",
       "      <th>1</th>\n",
       "      <td>1.0</td>\n",
       "      <td>2</td>\n",
       "      <td>c5c8a357cba207596b04d1afd1e4f130</td>\n",
       "      <td>2016-06-12 12:19:27</td>\n",
       "      <td></td>\n",
       "      <td>Columbus Avenue</td>\n",
       "      <td>[Doorman, Elevator, Fitness Center, Cats Allow...</td>\n",
       "      <td>low</td>\n",
       "      <td>40.7947</td>\n",
       "      <td>7150865</td>\n",
       "      <td>...</td>\n",
       "      <td>7533621a882f71e25173b27e3139d83d</td>\n",
       "      <td>[https://photos.renthop.com/2/7150865_be3306c5...</td>\n",
       "      <td>5465</td>\n",
       "      <td>808 Columbus Avenue</td>\n",
       "      <td>11</td>\n",
       "      <td>5</td>\n",
       "      <td>9</td>\n",
       "      <td>2016</td>\n",
       "      <td>6</td>\n",
       "      <td>12</td>\n",
       "    </tr>\n",
       "    <tr>\n",
       "      <th>2</th>\n",
       "      <td>1.0</td>\n",
       "      <td>1</td>\n",
       "      <td>c3ba40552e2120b0acfc3cb5730bb2aa</td>\n",
       "      <td>2016-04-17 03:26:41</td>\n",
       "      <td>Top Top West Village location, beautiful Pre-w...</td>\n",
       "      <td>W 13 Street</td>\n",
       "      <td>[Laundry In Building, Dishwasher, Hardwood Flo...</td>\n",
       "      <td>high</td>\n",
       "      <td>40.7388</td>\n",
       "      <td>6887163</td>\n",
       "      <td>...</td>\n",
       "      <td>d9039c43983f6e564b1482b273bd7b01</td>\n",
       "      <td>[https://photos.renthop.com/2/6887163_de85c427...</td>\n",
       "      <td>2850</td>\n",
       "      <td>241 W 13 Street</td>\n",
       "      <td>8</td>\n",
       "      <td>4</td>\n",
       "      <td>94</td>\n",
       "      <td>2016</td>\n",
       "      <td>4</td>\n",
       "      <td>17</td>\n",
       "    </tr>\n",
       "    <tr>\n",
       "      <th>3</th>\n",
       "      <td>1.0</td>\n",
       "      <td>1</td>\n",
       "      <td>28d9ad350afeaab8027513a3e52ac8d5</td>\n",
       "      <td>2016-04-18 02:22:02</td>\n",
       "      <td>Building Amenities - Garage - Garden - fitness...</td>\n",
       "      <td>East 49th Street</td>\n",
       "      <td>[Hardwood Floors, No Fee]</td>\n",
       "      <td>low</td>\n",
       "      <td>40.7539</td>\n",
       "      <td>6888711</td>\n",
       "      <td>...</td>\n",
       "      <td>1067e078446a7897d2da493d2f741316</td>\n",
       "      <td>[https://photos.renthop.com/2/6888711_6e660cee...</td>\n",
       "      <td>3275</td>\n",
       "      <td>333 East 49th Street</td>\n",
       "      <td>3</td>\n",
       "      <td>2</td>\n",
       "      <td>80</td>\n",
       "      <td>2016</td>\n",
       "      <td>4</td>\n",
       "      <td>18</td>\n",
       "    </tr>\n",
       "    <tr>\n",
       "      <th>4</th>\n",
       "      <td>1.0</td>\n",
       "      <td>4</td>\n",
       "      <td>0</td>\n",
       "      <td>2016-04-28 01:32:41</td>\n",
       "      <td>Beautifully renovated 3 bedroom flex 4 bedroom...</td>\n",
       "      <td>West 143rd Street</td>\n",
       "      <td>[Pre-War]</td>\n",
       "      <td>low</td>\n",
       "      <td>40.8241</td>\n",
       "      <td>6934781</td>\n",
       "      <td>...</td>\n",
       "      <td>98e13ad4b495b9613cef886d79a6291f</td>\n",
       "      <td>[https://photos.renthop.com/2/6934781_1fa4b41a...</td>\n",
       "      <td>3350</td>\n",
       "      <td>500 West 143rd Street</td>\n",
       "      <td>3</td>\n",
       "      <td>1</td>\n",
       "      <td>68</td>\n",
       "      <td>2016</td>\n",
       "      <td>4</td>\n",
       "      <td>28</td>\n",
       "    </tr>\n",
       "  </tbody>\n",
       "</table>\n",
       "<p>5 rows × 21 columns</p>\n",
       "</div>"
      ],
      "text/plain": [
       "   bathrooms  bedrooms                       building_id             created  \\\n",
       "0        1.5         3  53a5b119ba8f7b61d4e010512e0dfc85 2016-06-24 07:54:24   \n",
       "1        1.0         2  c5c8a357cba207596b04d1afd1e4f130 2016-06-12 12:19:27   \n",
       "2        1.0         1  c3ba40552e2120b0acfc3cb5730bb2aa 2016-04-17 03:26:41   \n",
       "3        1.0         1  28d9ad350afeaab8027513a3e52ac8d5 2016-04-18 02:22:02   \n",
       "4        1.0         4                                 0 2016-04-28 01:32:41   \n",
       "\n",
       "                                         description      display_address  \\\n",
       "0  A Brand New 3 Bedroom 1.5 bath ApartmentEnjoy ...  Metropolitan Avenue   \n",
       "1                                                         Columbus Avenue   \n",
       "2  Top Top West Village location, beautiful Pre-w...          W 13 Street   \n",
       "3  Building Amenities - Garage - Garden - fitness...     East 49th Street   \n",
       "4  Beautifully renovated 3 bedroom flex 4 bedroom...    West 143rd Street   \n",
       "\n",
       "                                            features interest_level  latitude  \\\n",
       "0                                                 []         medium   40.7145   \n",
       "1  [Doorman, Elevator, Fitness Center, Cats Allow...            low   40.7947   \n",
       "2  [Laundry In Building, Dishwasher, Hardwood Flo...           high   40.7388   \n",
       "3                          [Hardwood Floors, No Fee]            low   40.7539   \n",
       "4                                          [Pre-War]            low   40.8241   \n",
       "\n",
       "   listing_id     ...                             manager_id  \\\n",
       "0     7211212     ...       5ba989232d0489da1b5f2c45f6688adc   \n",
       "1     7150865     ...       7533621a882f71e25173b27e3139d83d   \n",
       "2     6887163     ...       d9039c43983f6e564b1482b273bd7b01   \n",
       "3     6888711     ...       1067e078446a7897d2da493d2f741316   \n",
       "4     6934781     ...       98e13ad4b495b9613cef886d79a6291f   \n",
       "\n",
       "                                              photos price  \\\n",
       "0  [https://photos.renthop.com/2/7211212_1ed4542e...  3000   \n",
       "1  [https://photos.renthop.com/2/7150865_be3306c5...  5465   \n",
       "2  [https://photos.renthop.com/2/6887163_de85c427...  2850   \n",
       "3  [https://photos.renthop.com/2/6888711_6e660cee...  3275   \n",
       "4  [https://photos.renthop.com/2/6934781_1fa4b41a...  3350   \n",
       "\n",
       "            street_address num_photos  num_features  num_description_words  \\\n",
       "0  792 Metropolitan Avenue          5             0                     95   \n",
       "1      808 Columbus Avenue         11             5                      9   \n",
       "2          241 W 13 Street          8             4                     94   \n",
       "3     333 East 49th Street          3             2                     80   \n",
       "4    500 West 143rd Street          3             1                     68   \n",
       "\n",
       "   created_year  created_month  created_day  \n",
       "0          2016              6           24  \n",
       "1          2016              6           12  \n",
       "2          2016              4           17  \n",
       "3          2016              4           18  \n",
       "4          2016              4           28  \n",
       "\n",
       "[5 rows x 21 columns]"
      ]
     },
     "execution_count": 6,
     "metadata": {},
     "output_type": "execute_result"
    }
   ],
   "source": [
    "df_train.head()"
   ]
  },
  {
   "cell_type": "markdown",
   "metadata": {},
   "source": [
    "# Take the mean value with grouping by Manager ID "
   ]
  },
  {
   "cell_type": "code",
   "execution_count": 7,
   "metadata": {
    "collapsed": false
   },
   "outputs": [
    {
     "data": {
      "text/plain": [
       "manager_id                        interest_level\n",
       "0000abd7518b94c35a90d64b56fbf3e6  low                4\n",
       "                                  medium             8\n",
       "001ce808ce1720e24a9510e014c69707  low               10\n",
       "003fc4e9a70053082f131b1054966aaf  low                1\n",
       "00607a02f6efd9c6c7c588826e471ee9  medium             2\n",
       "00995ff28d79127ed2dca8320e9e7d09  low                2\n",
       "                                  medium             1\n",
       "00a8d77892cab18fffaa22a751f1f8eb  low                3\n",
       "00f0b3346ba8379b26b95be8a19d46b1  low                1\n",
       "00f526d80353a50a52bbc26919e7ed5a  low                1\n",
       "01074bb974b125b65fa1b11a64c65135  low                3\n",
       "01157144534c928d731696e57ae4cd09  low                7\n",
       "                                  medium             6\n",
       "01287194f20de51872e81f660def4784  low                9\n",
       "014520259b01b5c8523599de9d021285  high               3\n",
       "                                  low                1\n",
       "015ec75d52e204706be746706530371f  low                3\n",
       "016ae4f8903a08719d9d9f232d61d3ba  high               3\n",
       "                                  low                3\n",
       "0176ff9c2592a72403fca7904a582345  high               1\n",
       "                                  low               29\n",
       "                                  medium             6\n",
       "0181a13829b8f9a85fae15e39ad41575  high               1\n",
       "                                  low                7\n",
       "                                  medium             5\n",
       "01a3d37c88990d387e564806699ca55d  low                3\n",
       "01a6c313c643a5c9eeeb607b3a3f3dd1  low                1\n",
       "01c92a064394eb8fd1a084631c8bc701  low                1\n",
       "01caa8bedacb38c1a333b31647a0dd88  medium             1\n",
       "01f1fadb85be52e12ffe3456b571fe5e  high               2\n",
       "                                                    ..\n",
       "feb54423d38fb5ad0ea85634ab53e35b  high               3\n",
       "                                  low                1\n",
       "                                  medium             2\n",
       "febc23ef5d45054c64e380bac1ab9a3e  medium             1\n",
       "fef690cb34be367eddfe2490805ba621  low               10\n",
       "                                  medium             1\n",
       "ff02723dde33dde012723b10783ecb30  low                7\n",
       "                                  medium             9\n",
       "ff0502ae23268fdc5706225a8735cce6  low                2\n",
       "                                  medium             1\n",
       "ff45f97e4709a06df6ca905a77f69072  medium             1\n",
       "ff50149b1ec6a10fbb386d761c7a4bc5  low                2\n",
       "                                  medium             1\n",
       "ff52574a198d8a349f41d57bd374e8e9  high               5\n",
       "                                  low                2\n",
       "                                  medium             1\n",
       "ff564542a40d3e9b970a494df91b4cee  low                1\n",
       "ff5a3509ebce238dfa4857839ddd24ce  low                1\n",
       "ff707b7f0a2ea94a26c784f06c9fec69  high               1\n",
       "                                  low                5\n",
       "                                  medium             1\n",
       "ff810b43aecfacd00f20a2912ff1e288  low                1\n",
       "ff8f1175d95c5a866ef73399cd54a1a1  low                7\n",
       "ffb9eceeaa4d60da7b41cc8f0954cd50  low                2\n",
       "ffd3c60281949a5cd806030203a79558  high               1\n",
       "                                  low                5\n",
       "                                  medium             1\n",
       "ffd7307e4924587b30ec014a95db1362  high               4\n",
       "                                  low               77\n",
       "                                  medium            34\n",
       "Name: bathrooms, dtype: int64"
      ]
     },
     "execution_count": 7,
     "metadata": {},
     "output_type": "execute_result"
    }
   ],
   "source": [
    "df_train.groupby(['manager_id','interest_level'])['bathrooms'].count()"
   ]
  },
  {
   "cell_type": "code",
   "execution_count": 8,
   "metadata": {
    "collapsed": true
   },
   "outputs": [],
   "source": [
    "df_man = _"
   ]
  },
  {
   "cell_type": "code",
   "execution_count": 9,
   "metadata": {
    "collapsed": false
   },
   "outputs": [],
   "source": [
    "df_man = pd.DataFrame(df_man)"
   ]
  },
  {
   "cell_type": "code",
   "execution_count": 10,
   "metadata": {
    "collapsed": false
   },
   "outputs": [
    {
     "data": {
      "text/html": [
       "<div>\n",
       "<table border=\"1\" class=\"dataframe\">\n",
       "  <thead>\n",
       "    <tr style=\"text-align: right;\">\n",
       "      <th></th>\n",
       "      <th></th>\n",
       "      <th>bathrooms</th>\n",
       "    </tr>\n",
       "    <tr>\n",
       "      <th>manager_id</th>\n",
       "      <th>interest_level</th>\n",
       "      <th></th>\n",
       "    </tr>\n",
       "  </thead>\n",
       "  <tbody>\n",
       "    <tr>\n",
       "      <th rowspan=\"2\" valign=\"top\">0000abd7518b94c35a90d64b56fbf3e6</th>\n",
       "      <th>low</th>\n",
       "      <td>4</td>\n",
       "    </tr>\n",
       "    <tr>\n",
       "      <th>medium</th>\n",
       "      <td>8</td>\n",
       "    </tr>\n",
       "    <tr>\n",
       "      <th>001ce808ce1720e24a9510e014c69707</th>\n",
       "      <th>low</th>\n",
       "      <td>10</td>\n",
       "    </tr>\n",
       "    <tr>\n",
       "      <th>003fc4e9a70053082f131b1054966aaf</th>\n",
       "      <th>low</th>\n",
       "      <td>1</td>\n",
       "    </tr>\n",
       "    <tr>\n",
       "      <th>00607a02f6efd9c6c7c588826e471ee9</th>\n",
       "      <th>medium</th>\n",
       "      <td>2</td>\n",
       "    </tr>\n",
       "  </tbody>\n",
       "</table>\n",
       "</div>"
      ],
      "text/plain": [
       "                                                 bathrooms\n",
       "manager_id                       interest_level           \n",
       "0000abd7518b94c35a90d64b56fbf3e6 low                     4\n",
       "                                 medium                  8\n",
       "001ce808ce1720e24a9510e014c69707 low                    10\n",
       "003fc4e9a70053082f131b1054966aaf low                     1\n",
       "00607a02f6efd9c6c7c588826e471ee9 medium                  2"
      ]
     },
     "execution_count": 10,
     "metadata": {},
     "output_type": "execute_result"
    }
   ],
   "source": [
    "df_man.head()"
   ]
  },
  {
   "cell_type": "code",
   "execution_count": 11,
   "metadata": {
    "collapsed": false
   },
   "outputs": [],
   "source": [
    "manager_id = df_train[\"manager_id\"].unique()"
   ]
  },
  {
   "cell_type": "code",
   "execution_count": 12,
   "metadata": {
    "collapsed": false
   },
   "outputs": [
    {
     "data": {
      "text/plain": [
       "3481"
      ]
     },
     "execution_count": 12,
     "metadata": {},
     "output_type": "execute_result"
    }
   ],
   "source": [
    "len(manager_id)"
   ]
  },
  {
   "cell_type": "markdown",
   "metadata": {},
   "source": [
    "Since the manager_id is a string, we can not use it in a logistic regression. We need to calculate a probability of interest level for each manager id."
   ]
  },
  {
   "cell_type": "code",
   "execution_count": 13,
   "metadata": {
    "collapsed": true
   },
   "outputs": [],
   "source": [
    "prob=[]"
   ]
  },
  {
   "cell_type": "code",
   "execution_count": 14,
   "metadata": {
    "collapsed": false
   },
   "outputs": [],
   "source": [
    "for i in range(len(df_train)):\n",
    "    #print(i)\n",
    "    if df_train[\"interest_level\"][i] == \"low\":\n",
    "        prob.append(0.2)\n",
    "    if df_train[\"interest_level\"][i] == \"medium\":\n",
    "        prob.append(0.5)\n",
    "    if df_train[\"interest_level\"][i] == \"high\":\n",
    "        prob.append(0.7)"
   ]
  },
  {
   "cell_type": "code",
   "execution_count": 15,
   "metadata": {
    "collapsed": false
   },
   "outputs": [],
   "source": [
    "prob = pd.DataFrame(prob,columns=[\"interest_prob\"])"
   ]
  },
  {
   "cell_type": "code",
   "execution_count": 16,
   "metadata": {
    "collapsed": false
   },
   "outputs": [],
   "source": [
    "df_train = pd.concat([df_train,prob],axis = 1)"
   ]
  },
  {
   "cell_type": "code",
   "execution_count": 17,
   "metadata": {
    "collapsed": false
   },
   "outputs": [
    {
     "data": {
      "text/plain": [
       "array(['bathrooms', 'bedrooms', 'building_id', 'created', 'description',\n",
       "       'display_address', 'features', 'interest_level', 'latitude',\n",
       "       'listing_id', 'longitude', 'manager_id', 'photos', 'price',\n",
       "       'street_address', 'num_photos', 'num_features',\n",
       "       'num_description_words', 'created_year', 'created_month',\n",
       "       'created_day', 'interest_prob'], dtype=object)"
      ]
     },
     "execution_count": 17,
     "metadata": {},
     "output_type": "execute_result"
    }
   ],
   "source": [
    "df_train.columns.values"
   ]
  },
  {
   "cell_type": "code",
   "execution_count": 18,
   "metadata": {
    "collapsed": false
   },
   "outputs": [
    {
     "data": {
      "text/plain": [
       "manager_id\n",
       "0000abd7518b94c35a90d64b56fbf3e6    0.400000\n",
       "001ce808ce1720e24a9510e014c69707    0.200000\n",
       "003fc4e9a70053082f131b1054966aaf    0.200000\n",
       "00607a02f6efd9c6c7c588826e471ee9    0.500000\n",
       "00995ff28d79127ed2dca8320e9e7d09    0.300000\n",
       "00a8d77892cab18fffaa22a751f1f8eb    0.200000\n",
       "00f0b3346ba8379b26b95be8a19d46b1    0.200000\n",
       "00f526d80353a50a52bbc26919e7ed5a    0.200000\n",
       "01074bb974b125b65fa1b11a64c65135    0.200000\n",
       "01157144534c928d731696e57ae4cd09    0.338462\n",
       "01287194f20de51872e81f660def4784    0.200000\n",
       "014520259b01b5c8523599de9d021285    0.575000\n",
       "015ec75d52e204706be746706530371f    0.200000\n",
       "016ae4f8903a08719d9d9f232d61d3ba    0.450000\n",
       "0176ff9c2592a72403fca7904a582345    0.263889\n",
       "0181a13829b8f9a85fae15e39ad41575    0.353846\n",
       "01a3d37c88990d387e564806699ca55d    0.200000\n",
       "01a6c313c643a5c9eeeb607b3a3f3dd1    0.200000\n",
       "01c92a064394eb8fd1a084631c8bc701    0.200000\n",
       "01caa8bedacb38c1a333b31647a0dd88    0.500000\n",
       "01f1fadb85be52e12ffe3456b571fe5e    0.525000\n",
       "0215950010e0c1a5b3357c47074d3580    0.500000\n",
       "02199ff2601900857999310220e9a322    0.200000\n",
       "0246857142b0b3318d5b518f05bca11b    0.200000\n",
       "0265b385ed1cc5c5fe1ad974207096c0    0.500000\n",
       "0299c9da66d8302ccb5f9d43b877150e    0.413333\n",
       "029a969dcfc7abbddef41086ddaa3a1a    0.633333\n",
       "02a6cb87b9a684318667b1a98143ba1f    0.200000\n",
       "02b8c740c4cc957f21c8ce0fd4a27cc5    0.450000\n",
       "02bce108a89a405d9399d8af06c64b8f    0.200000\n",
       "                                      ...   \n",
       "fdd8043c48c7e8e2e5285b811dd7c87f    0.200000\n",
       "fdf3fccc240aee8912275e9a2ed82453    0.200000\n",
       "fdf948c8b1d2bbde9917f10882602a6f    0.700000\n",
       "fe05aab6eeabe8980f88e214088b9232    0.452941\n",
       "fe09ee40e79d35c5f2a4e118918681d3    0.500000\n",
       "fe1aa4cf79b22146929b836739fec8ec    0.200000\n",
       "fe2df0b7e8a03e7a4af5eb16bb92fa7f    0.200000\n",
       "fe54b0bc19a2405978a0d39eecd6182d    0.200000\n",
       "fe56e4d320ff4b347ec77069bc5e7617    0.200000\n",
       "fe6eb9ad167b7502032a4b6553a6c635    0.200000\n",
       "fe7076077ae23563520d054a917e3544    0.332558\n",
       "fe8e4746a011f2dac35a332c7c96de0a    0.200000\n",
       "fea6d07259b508125f80887f330aa27e    0.600000\n",
       "feaa796733398e7c42a362cca5d3051b    0.200000\n",
       "feb54423d38fb5ad0ea85634ab53e35b    0.550000\n",
       "febc23ef5d45054c64e380bac1ab9a3e    0.500000\n",
       "fef690cb34be367eddfe2490805ba621    0.227273\n",
       "ff02723dde33dde012723b10783ecb30    0.368750\n",
       "ff0502ae23268fdc5706225a8735cce6    0.300000\n",
       "ff45f97e4709a06df6ca905a77f69072    0.500000\n",
       "ff50149b1ec6a10fbb386d761c7a4bc5    0.300000\n",
       "ff52574a198d8a349f41d57bd374e8e9    0.550000\n",
       "ff564542a40d3e9b970a494df91b4cee    0.200000\n",
       "ff5a3509ebce238dfa4857839ddd24ce    0.200000\n",
       "ff707b7f0a2ea94a26c784f06c9fec69    0.314286\n",
       "ff810b43aecfacd00f20a2912ff1e288    0.200000\n",
       "ff8f1175d95c5a866ef73399cd54a1a1    0.200000\n",
       "ffb9eceeaa4d60da7b41cc8f0954cd50    0.200000\n",
       "ffd3c60281949a5cd806030203a79558    0.314286\n",
       "ffd7307e4924587b30ec014a95db1362    0.306087\n",
       "Name: interest_prob, dtype: float64"
      ]
     },
     "execution_count": 18,
     "metadata": {},
     "output_type": "execute_result"
    }
   ],
   "source": [
    "df_train.groupby(['manager_id'])['interest_prob'].mean()"
   ]
  },
  {
   "cell_type": "code",
   "execution_count": 19,
   "metadata": {
    "collapsed": true
   },
   "outputs": [],
   "source": [
    "df_man_score = _"
   ]
  },
  {
   "cell_type": "code",
   "execution_count": 20,
   "metadata": {
    "collapsed": true
   },
   "outputs": [],
   "source": [
    "df_man_score = pd.DataFrame(df_man_score)"
   ]
  },
  {
   "cell_type": "code",
   "execution_count": 21,
   "metadata": {
    "collapsed": false
   },
   "outputs": [],
   "source": [
    "df_man_score.reset_index(level=0,inplace=True)"
   ]
  },
  {
   "cell_type": "code",
   "execution_count": 22,
   "metadata": {
    "collapsed": false,
    "scrolled": true
   },
   "outputs": [
    {
     "data": {
      "text/html": [
       "<div>\n",
       "<table border=\"1\" class=\"dataframe\">\n",
       "  <thead>\n",
       "    <tr style=\"text-align: right;\">\n",
       "      <th></th>\n",
       "      <th>manager_id</th>\n",
       "      <th>interest_prob</th>\n",
       "    </tr>\n",
       "  </thead>\n",
       "  <tbody>\n",
       "    <tr>\n",
       "      <th>0</th>\n",
       "      <td>0000abd7518b94c35a90d64b56fbf3e6</td>\n",
       "      <td>0.4</td>\n",
       "    </tr>\n",
       "    <tr>\n",
       "      <th>1</th>\n",
       "      <td>001ce808ce1720e24a9510e014c69707</td>\n",
       "      <td>0.2</td>\n",
       "    </tr>\n",
       "    <tr>\n",
       "      <th>2</th>\n",
       "      <td>003fc4e9a70053082f131b1054966aaf</td>\n",
       "      <td>0.2</td>\n",
       "    </tr>\n",
       "    <tr>\n",
       "      <th>3</th>\n",
       "      <td>00607a02f6efd9c6c7c588826e471ee9</td>\n",
       "      <td>0.5</td>\n",
       "    </tr>\n",
       "    <tr>\n",
       "      <th>4</th>\n",
       "      <td>00995ff28d79127ed2dca8320e9e7d09</td>\n",
       "      <td>0.3</td>\n",
       "    </tr>\n",
       "  </tbody>\n",
       "</table>\n",
       "</div>"
      ],
      "text/plain": [
       "                         manager_id  interest_prob\n",
       "0  0000abd7518b94c35a90d64b56fbf3e6            0.4\n",
       "1  001ce808ce1720e24a9510e014c69707            0.2\n",
       "2  003fc4e9a70053082f131b1054966aaf            0.2\n",
       "3  00607a02f6efd9c6c7c588826e471ee9            0.5\n",
       "4  00995ff28d79127ed2dca8320e9e7d09            0.3"
      ]
     },
     "execution_count": 22,
     "metadata": {},
     "output_type": "execute_result"
    }
   ],
   "source": [
    "df_man_score.head()"
   ]
  },
  {
   "cell_type": "code",
   "execution_count": 23,
   "metadata": {
    "collapsed": false
   },
   "outputs": [],
   "source": [
    "df_train = pd.merge(df_train, df_man_score, on='manager_id', how='left')"
   ]
  },
  {
   "cell_type": "code",
   "execution_count": 24,
   "metadata": {
    "collapsed": true
   },
   "outputs": [],
   "source": [
    "df_train.to_csv(\"df_train_manager.csv\")"
   ]
  },
  {
   "cell_type": "code",
   "execution_count": null,
   "metadata": {
    "collapsed": true
   },
   "outputs": [],
   "source": []
  }
 ],
 "metadata": {
  "anaconda-cloud": {},
  "kernelspec": {
   "display_name": "Python [Root]",
   "language": "python",
   "name": "Python [Root]"
  },
  "language_info": {
   "codemirror_mode": {
    "name": "ipython",
    "version": 3
   },
   "file_extension": ".py",
   "mimetype": "text/x-python",
   "name": "python",
   "nbconvert_exporter": "python",
   "pygments_lexer": "ipython3",
   "version": "3.5.2"
  }
 },
 "nbformat": 4,
 "nbformat_minor": 0
}
